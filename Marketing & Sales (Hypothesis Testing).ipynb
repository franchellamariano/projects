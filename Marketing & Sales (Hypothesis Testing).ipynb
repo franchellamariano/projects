{
 "cells": [
  {
   "cell_type": "markdown",
   "metadata": {
    "id": "3efad4c7-d34f-44b0-a48d-94651f931bae"
   },
   "source": [
    "# Activity: Hypothesis testing with Python"
   ]
  },
  {
   "cell_type": "markdown",
   "metadata": {
    "id": "2faf7b57-5c13-45e5-b666-d575eff0d17c"
   },
   "source": [
    "## **Introduction**\n"
   ]
  },
  {
   "cell_type": "markdown",
   "metadata": {
    "id": "2ca9aca5-33e0-4aa7-acdb-05832b05e5a9"
   },
   "source": [
    "As you've been learning, analysis of variance (commonly called ANOVA) is a group of statistical techniques that test the difference of means among three or more groups. It's a powerful tool for determining whether population means are different across groups and for answering a wide range of business questions.\n",
    "\n",
    "In this activity, you are a data professional working with historical marketing promotion data. You will use the data to run a one-way ANOVA and a post hoc ANOVA test. Then, you will communicate your results to stakeholders. These experiences will help you make more confident recommendations in a professional setting. \n",
    "\n",
    "In your dataset, each row corresponds to an independent marketing promotion, where your business uses TV, social media, radio, and influencer promotions to increase sales. You have previously provided insights about how different promotion types affect sales; now stakeholders want to know if sales are significantly different among various TV and influencer promotion types.\n",
    "\n",
    "To address this request, a one-way ANOVA test will enable you to determine if there is a statistically significant difference in sales among groups. This includes:\n",
    "* Using plots and descriptive statistics to select a categorical independent variable\n",
    "* Creating and fitting a linear regression model with the selected categorical independent variable\n",
    "* Checking model assumptions\n",
    "* Performing and interpreting a one-way ANOVA test\n",
    "* Comparing pairs of groups using an ANOVA post hoc test\n",
    "* Interpreting model outputs and communicating the results to nontechnical stakeholders"
   ]
  },
  {
   "cell_type": "markdown",
   "metadata": {
    "id": "bfcf5ec2-e48b-4443-9bf6-72670bd60041"
   },
   "source": [
    "## **Step 1: Imports** \n"
   ]
  },
  {
   "cell_type": "markdown",
   "metadata": {
    "id": "7dcaa8a0-4fe8-4816-9ef5-5fc665a4638f"
   },
   "source": [
    "Import pandas, pyplot from matplotlib, seaborn, api from statsmodels, ols from statsmodels.formula.api, and pairwise_tukeyhsd from statsmodels.stats.multicomp."
   ]
  },
  {
   "cell_type": "code",
   "execution_count": 1,
   "metadata": {
    "id": "b2f4b9fa-b7bd-4b88-8c71-d3af5ddcb906"
   },
   "outputs": [],
   "source": [
    "# Import libraries and packages.\n",
    "\n",
    "import pandas as pd\n",
    "import matplotlib.pyplot as plt\n",
    "import seaborn as sns\n",
    "import statsmodels.api as sm\n",
    "from statsmodels.formula.api import ols\n",
    "from statsmodels.stats.multicomp import pairwise_tukeyhsd\n"
   ]
  },
  {
   "cell_type": "markdown",
   "metadata": {},
   "source": [
    "`Pandas` was used to load the dataset `marketing_sales_data.csv` as `data`, now display the first five rows. The variables in the dataset have been adjusted to suit the objectives of this lab. As shown in this cell, the dataset has been automatically loaded in for you. You do not need to download the .csv file, or provide more code, in order to access the dataset and proceed with this lab. Please continue with this activity by completing the following instructions."
   ]
  },
  {
   "cell_type": "code",
   "execution_count": 2,
   "metadata": {
    "id": "32d46d82-2bd6-4433-b56e-cfa5542949ca"
   },
   "outputs": [
    {
     "data": {
      "text/html": [
       "<div>\n",
       "<style scoped>\n",
       "    .dataframe tbody tr th:only-of-type {\n",
       "        vertical-align: middle;\n",
       "    }\n",
       "\n",
       "    .dataframe tbody tr th {\n",
       "        vertical-align: top;\n",
       "    }\n",
       "\n",
       "    .dataframe thead th {\n",
       "        text-align: right;\n",
       "    }\n",
       "</style>\n",
       "<table border=\"1\" class=\"dataframe\">\n",
       "  <thead>\n",
       "    <tr style=\"text-align: right;\">\n",
       "      <th></th>\n",
       "      <th>TV</th>\n",
       "      <th>Radio</th>\n",
       "      <th>Social Media</th>\n",
       "      <th>Influencer</th>\n",
       "      <th>Sales</th>\n",
       "    </tr>\n",
       "  </thead>\n",
       "  <tbody>\n",
       "    <tr>\n",
       "      <th>0</th>\n",
       "      <td>Low</td>\n",
       "      <td>1.218354</td>\n",
       "      <td>1.270444</td>\n",
       "      <td>Micro</td>\n",
       "      <td>90.054222</td>\n",
       "    </tr>\n",
       "    <tr>\n",
       "      <th>1</th>\n",
       "      <td>Medium</td>\n",
       "      <td>14.949791</td>\n",
       "      <td>0.274451</td>\n",
       "      <td>Macro</td>\n",
       "      <td>222.741668</td>\n",
       "    </tr>\n",
       "    <tr>\n",
       "      <th>2</th>\n",
       "      <td>Low</td>\n",
       "      <td>10.377258</td>\n",
       "      <td>0.061984</td>\n",
       "      <td>Mega</td>\n",
       "      <td>102.774790</td>\n",
       "    </tr>\n",
       "    <tr>\n",
       "      <th>3</th>\n",
       "      <td>High</td>\n",
       "      <td>26.469274</td>\n",
       "      <td>7.070945</td>\n",
       "      <td>Micro</td>\n",
       "      <td>328.239378</td>\n",
       "    </tr>\n",
       "    <tr>\n",
       "      <th>4</th>\n",
       "      <td>High</td>\n",
       "      <td>36.876302</td>\n",
       "      <td>7.618605</td>\n",
       "      <td>Mega</td>\n",
       "      <td>351.807328</td>\n",
       "    </tr>\n",
       "  </tbody>\n",
       "</table>\n",
       "</div>"
      ],
      "text/plain": [
       "       TV      Radio  Social Media Influencer       Sales\n",
       "0     Low   1.218354      1.270444      Micro   90.054222\n",
       "1  Medium  14.949791      0.274451      Macro  222.741668\n",
       "2     Low  10.377258      0.061984       Mega  102.774790\n",
       "3    High  26.469274      7.070945      Micro  328.239378\n",
       "4    High  36.876302      7.618605       Mega  351.807328"
      ]
     },
     "execution_count": 2,
     "metadata": {},
     "output_type": "execute_result"
    }
   ],
   "source": [
    "# RUN THIS CELL TO IMPORT YOUR DATA.\n",
    "\n",
    "### YOUR CODE HERE ### \n",
    "data = pd.read_csv('marketing_sales_data.csv')\n",
    "\n",
    "# Display the first five rows.\n",
    "\n",
    "data.head()\n",
    "\n"
   ]
  },
  {
   "cell_type": "markdown",
   "metadata": {
    "id": "c179e85f-20df-4840-ad29-de35b928dff6"
   },
   "source": [
    "The features in the data are:\n",
    "* TV promotion budget (in Low, Medium, and High categories)\n",
    "* Social media promotion budget (in millions of dollars)\n",
    "* Radio promotion budget (in millions of dollars)\n",
    "* Sales (in millions of dollars)\n",
    "* Influencer size (in Mega, Macro, Nano, and Micro categories)"
   ]
  },
  {
   "cell_type": "markdown",
   "metadata": {
    "id": "fd47ede7-63ff-4fe5-aeb0-b8f909e9ecbe"
   },
   "source": [
    "## **Step 2: Data exploration** \n"
   ]
  },
  {
   "cell_type": "markdown",
   "metadata": {
    "id": "b9669d71-a6b3-491b-b115-0c766625fc3d"
   },
   "source": [
    "First, use a boxplot to determine how `Sales` vary based on the `TV` promotion budget category."
   ]
  },
  {
   "cell_type": "code",
   "execution_count": 3,
   "metadata": {
    "id": "518254a6-44d5-45bf-9b57-13ce3a4deab3"
   },
   "outputs": [
    {
     "data": {
      "text/plain": [
       "<matplotlib.axes._subplots.AxesSubplot at 0x7f693e836d90>"
      ]
     },
     "execution_count": 3,
     "metadata": {},
     "output_type": "execute_result"
    },
    {
     "data": {
      "image/png": "[encoded data removed]",
      "text/plain": [
       "<Figure size 432x288 with 1 Axes>"
      ]
     },
     "metadata": {
      "needs_background": "light"
     },
     "output_type": "display_data"
    }
   ],
   "source": [
    "# Create a boxplot with TV and Sales.\n",
    "\n",
    "sns.boxplot(x = 'TV', y = 'Sales', data = data)\n"
   ]
  },
  {
   "cell_type": "markdown",
   "metadata": {
    "id": "dd7d4c26-24ae-43b6-a521-18ce36446216"
   },
   "source": [
    "<details>\n",
    "<summary><h4><strong>Hint 1</strong></h4></summary>\n",
    "\n",
    "There is a function in the `seaborn` library that creates a boxplot showing the distribution of a variable across multiple groups.\n",
    "\n",
    "</details>"
   ]
  },
  {
   "cell_type": "markdown",
   "metadata": {
    "id": "344a4a0a-1b9e-474a-979a-d55032c5bd75"
   },
   "source": [
    "<details>\n",
    "<summary><h4><strong>Hint 2</strong></h4></summary>\n",
    "\n",
    "Use the `boxplot()` function from `seaborn`.\n",
    "\n",
    "</details>"
   ]
  },
  {
   "cell_type": "markdown",
   "metadata": {
    "id": "0b172c8a-8c94-4f83-bd33-b89d634a5025",
    "jp-MarkdownHeadingCollapsed": true,
    "tags": []
   },
   "source": [
    "<details>\n",
    "<summary><h4><strong>Hint 3</strong></h4></summary>\n",
    "\n",
    "Use `TV` as the `x` argument, `Sales` as the `y` argument, and `data` as the `data` argument.\n",
    "\n",
    "</details>"
   ]
  },
  {
   "cell_type": "markdown",
   "metadata": {
    "id": "a956add8-97b0-45b8-a008-ca1f7033c308"
   },
   "source": [
    "**Question:** Is there variation in `Sales` based off the `TV` promotion budget?"
   ]
  },
  {
   "cell_type": "markdown",
   "metadata": {
    "id": "81f3c2fa-d98e-491d-be5b-f7d07845e490"
   },
   "source": [
    "There seems to be variation in Sales based off the TV promotion budget."
   ]
  },
  {
   "cell_type": "markdown",
   "metadata": {
    "id": "f3100abe-32db-4a56-b831-18eb0857b2d7"
   },
   "source": [
    "Now, use a boxplot to determine how `Sales` vary based on the `Influencer` size category."
   ]
  },
  {
   "cell_type": "code",
   "execution_count": 4,
   "metadata": {
    "id": "fafbc9e4-de0b-4892-a863-add240208344"
   },
   "outputs": [
    {
     "data": {
      "text/plain": [
       "<matplotlib.axes._subplots.AxesSubplot at 0x7f693c73ed10>"
      ]
     },
     "execution_count": 4,
     "metadata": {},
     "output_type": "execute_result"
    },
    {
     "data": {
      "image/png": "[encoded data removed]",
      "text/plain": [
       "<Figure size 432x288 with 1 Axes>"
      ]
     },
     "metadata": {
      "needs_background": "light"
     },
     "output_type": "display_data"
    }
   ],
   "source": [
    "# Create a boxplot with Influencer and Sales.\n",
    "\n",
    "sns.boxplot(x = 'Influencer', y = 'Sales', data = data)\n",
    "\n"
   ]
  },
  {
   "cell_type": "markdown",
   "metadata": {
    "id": "e415aa95-0650-47e0-9efd-2770b8dfcb3d"
   },
   "source": [
    "**Question:** Is there variation in `Sales` based off the `Influencer` size?"
   ]
  },
  {
   "cell_type": "markdown",
   "metadata": {
    "id": "b665e78d-7255-43de-b915-a78d6bbb87ce"
   },
   "source": [
    "There is some variation in Sales based off the Influencer size, but it isn't very significant."
   ]
  },
  {
   "cell_type": "markdown",
   "metadata": {
    "id": "0f4adbee-9d13-400a-99e6-6d4c482b8e17"
   },
   "source": [
    "### Remove missing data\n",
    "\n",
    "You may recall from prior labs that this dataset contains rows with missing values. To correct this, drop these rows. Then, confirm the data contains no missing values."
   ]
  },
  {
   "cell_type": "code",
   "execution_count": 6,
   "metadata": {
    "id": "498e546b-e90e-4b84-a7d7-12b3bb514c1d"
   },
   "outputs": [
    {
     "data": {
      "text/plain": [
       "TV              0\n",
       "Radio           0\n",
       "Social Media    0\n",
       "Influencer      0\n",
       "Sales           0\n",
       "dtype: int64"
      ]
     },
     "execution_count": 6,
     "metadata": {},
     "output_type": "execute_result"
    }
   ],
   "source": [
    "# Drop rows that contain missing data and update the DataFrame.\n",
    "\n",
    "data = data.dropna(axis = 0)\n",
    "\n",
    "\n",
    "# Confirm the data contains no missing values.\n",
    "\n",
    "data.isnull().sum(axis = 0)\n",
    "\n"
   ]
  },
  {
   "cell_type": "markdown",
   "metadata": {
    "id": "e37d7507-1f3d-4432-912e-ced7feff4ac6"
   },
   "source": [
    "<details>\n",
    "<summary><h4><strong>Hint 1</strong></h4></summary>\n",
    "\n",
    "There is a `pandas` function that removes missing values.\n",
    "\n",
    "</details>"
   ]
  },
  {
   "cell_type": "markdown",
   "metadata": {
    "id": "19cd01e1-9976-47f6-b25c-7b8ce2a05627"
   },
   "source": [
    "<details>\n",
    "<summary><h4><strong>Hint 2</strong></h4></summary>\n",
    "\n",
    "The `dropna()` function removes missing values from an object (e.g., DataFrame).\n",
    "\n",
    "</details>"
   ]
  },
  {
   "cell_type": "markdown",
   "metadata": {
    "id": "87a46eec-9d3e-4657-bf91-6b3bd02089f0"
   },
   "source": [
    "<details>\n",
    "<summary><h4><strong>Hint 3</strong></h4></summary>\n",
    "\n",
    "Verify the data is updated properly after the rows containing missing data are dropped.\n",
    "\n",
    "</details>"
   ]
  },
  {
   "cell_type": "markdown",
   "metadata": {
    "id": "888c90fa-d800-43e4-a692-9fdd576c9b9c"
   },
   "source": [
    "## **Step 3: Model building** \n"
   ]
  },
  {
   "cell_type": "markdown",
   "metadata": {
    "id": "9c906193-db62-4af0-83fa-dffafc347554"
   },
   "source": [
    "Fit a linear regression model that predicts `Sales` using one of the independent categorical variables in `data`. Refer to your previous code for defining and fitting a linear regression model."
   ]
  },
  {
   "cell_type": "code",
   "execution_count": 16,
   "metadata": {
    "id": "76f99341-1ea0-4f1d-a2c7-54e56bd57e38"
   },
   "outputs": [
    {
     "data": {
      "text/html": [
       "<table class=\"simpletable\">\n",
       "<caption>OLS Regression Results</caption>\n",
       "<tr>\n",
       "  <th>Dep. Variable:</th>          <td>Sales</td>      <th>  R-squared:         </th> <td>   0.012</td>\n",
       "</tr>\n",
       "<tr>\n",
       "  <th>Model:</th>                   <td>OLS</td>       <th>  Adj. R-squared:    </th> <td>   0.006</td>\n",
       "</tr>\n",
       "<tr>\n",
       "  <th>Method:</th>             <td>Least Squares</td>  <th>  F-statistic:       </th> <td>   2.206</td>\n",
       "</tr>\n",
       "<tr>\n",
       "  <th>Date:</th>             <td>Tue, 15 Aug 2023</td> <th>  Prob (F-statistic):</th>  <td>0.0863</td> \n",
       "</tr>\n",
       "<tr>\n",
       "  <th>Time:</th>                 <td>21:58:00</td>     <th>  Log-Likelihood:    </th> <td> -3366.0</td>\n",
       "</tr>\n",
       "<tr>\n",
       "  <th>No. Observations:</th>      <td>   569</td>      <th>  AIC:               </th> <td>   6740.</td>\n",
       "</tr>\n",
       "<tr>\n",
       "  <th>Df Residuals:</th>          <td>   565</td>      <th>  BIC:               </th> <td>   6757.</td>\n",
       "</tr>\n",
       "<tr>\n",
       "  <th>Df Model:</th>              <td>     3</td>      <th>                     </th>     <td> </td>   \n",
       "</tr>\n",
       "<tr>\n",
       "  <th>Covariance Type:</th>      <td>nonrobust</td>    <th>                     </th>     <td> </td>   \n",
       "</tr>\n",
       "</table>\n",
       "<table class=\"simpletable\">\n",
       "<tr>\n",
       "             <td></td>               <th>coef</th>     <th>std err</th>      <th>t</th>      <th>P>|t|</th>  <th>[0.025</th>    <th>0.975]</th>  \n",
       "</tr>\n",
       "<tr>\n",
       "  <th>Intercept</th>              <td>  206.6418</td> <td>    7.897</td> <td>   26.166</td> <td> 0.000</td> <td>  191.130</td> <td>  222.153</td>\n",
       "</tr>\n",
       "<tr>\n",
       "  <th>C(Influencer)[T.Mega]</th>  <td>  -26.2567</td> <td>   10.841</td> <td>   -2.422</td> <td> 0.016</td> <td>  -47.550</td> <td>   -4.964</td>\n",
       "</tr>\n",
       "<tr>\n",
       "  <th>C(Influencer)[T.Micro]</th> <td>   -7.9867</td> <td>   10.876</td> <td>   -0.734</td> <td> 0.463</td> <td>  -29.348</td> <td>   13.375</td>\n",
       "</tr>\n",
       "<tr>\n",
       "  <th>C(Influencer)[T.Nano]</th>  <td>  -16.8990</td> <td>   10.841</td> <td>   -1.559</td> <td> 0.120</td> <td>  -38.192</td> <td>    4.394</td>\n",
       "</tr>\n",
       "</table>\n",
       "<table class=\"simpletable\">\n",
       "<tr>\n",
       "  <th>Omnibus:</th>       <td>191.779</td> <th>  Durbin-Watson:     </th> <td>   1.902</td>\n",
       "</tr>\n",
       "<tr>\n",
       "  <th>Prob(Omnibus):</th> <td> 0.000</td>  <th>  Jarque-Bera (JB):  </th> <td>  28.590</td>\n",
       "</tr>\n",
       "<tr>\n",
       "  <th>Skew:</th>          <td> 0.038</td>  <th>  Prob(JB):          </th> <td>6.19e-07</td>\n",
       "</tr>\n",
       "<tr>\n",
       "  <th>Kurtosis:</th>      <td> 1.905</td>  <th>  Cond. No.          </th> <td>    4.99</td>\n",
       "</tr>\n",
       "</table><br/><br/>Warnings:<br/>[1] Standard Errors assume that the covariance matrix of the errors is correctly specified."
      ],
      "text/plain": [
       "<class 'statsmodels.iolib.summary.Summary'>\n",
       "\"\"\"\n",
       "                            OLS Regression Results                            \n",
       "==============================================================================\n",
       "Dep. Variable:                  Sales   R-squared:                       0.012\n",
       "Model:                            OLS   Adj. R-squared:                  0.006\n",
       "Method:                 Least Squares   F-statistic:                     2.206\n",
       "Date:                Tue, 15 Aug 2023   Prob (F-statistic):             0.0863\n",
       "Time:                        21:58:00   Log-Likelihood:                -3366.0\n",
       "No. Observations:                 569   AIC:                             6740.\n",
       "Df Residuals:                     565   BIC:                             6757.\n",
       "Df Model:                           3                                         \n",
       "Covariance Type:            nonrobust                                         \n",
       "==========================================================================================\n",
       "                             coef    std err          t      P>|t|      [0.025      0.975]\n",
       "------------------------------------------------------------------------------------------\n",
       "Intercept                206.6418      7.897     26.166      0.000     191.130     222.153\n",
       "C(Influencer)[T.Mega]    -26.2567     10.841     -2.422      0.016     -47.550      -4.964\n",
       "C(Influencer)[T.Micro]    -7.9867     10.876     -0.734      0.463     -29.348      13.375\n",
       "C(Influencer)[T.Nano]    -16.8990     10.841     -1.559      0.120     -38.192       4.394\n",
       "==============================================================================\n",
       "Omnibus:                      191.779   Durbin-Watson:                   1.902\n",
       "Prob(Omnibus):                  0.000   Jarque-Bera (JB):               28.590\n",
       "Skew:                           0.038   Prob(JB):                     6.19e-07\n",
       "Kurtosis:                       1.905   Cond. No.                         4.99\n",
       "==============================================================================\n",
       "\n",
       "Warnings:\n",
       "[1] Standard Errors assume that the covariance matrix of the errors is correctly specified.\n",
       "\"\"\""
      ]
     },
     "execution_count": 16,
     "metadata": {},
     "output_type": "execute_result"
    }
   ],
   "source": [
    "#Define the OLS formula. \n",
    "\n",
    "ols_formula = 'Sales ~ C(Influencer)'\n",
    "\n",
    "# Create an OLS model.\n",
    "\n",
    "OLS = ols(formula = ols_formula, data = data)\n",
    "\n",
    "# Fit the model.\n",
    "\n",
    "model = OLS.fit()\n",
    "\n",
    "# Save the results summary.\n",
    "\n",
    "model_results = model.summary()\n",
    "\n",
    "# Display the model results.\n",
    "\n",
    "model_results"
   ]
  },
  {
   "cell_type": "markdown",
   "metadata": {
    "id": "109e32f5-8193-4961-8245-6b6c09acfe3a",
    "jp-MarkdownHeadingCollapsed": true,
    "tags": []
   },
   "source": [
    "<details>\n",
    "<summary><h4><strong>Hint 1</strong></h4></summary>\n",
    "\n",
    "Refer to code you've written to fit linear regression models.\n",
    "\n",
    "</details>"
   ]
  },
  {
   "cell_type": "markdown",
   "metadata": {
    "id": "49424e08-3472-44f1-a892-63ed80517510"
   },
   "source": [
    "<details>\n",
    "<summary><h4><strong>Hint 2</strong></h4></summary>\n",
    "\n",
    "Use the `ols()` function from `statsmodels.formula.api`, which creates a model from a formula and DataFrame, to create an OLS model.\n",
    "\n",
    "</details>\n"
   ]
  },
  {
   "cell_type": "markdown",
   "metadata": {
    "id": "0ee5dead-ed62-45d5-ab24-d671d8c3dde4",
    "jp-MarkdownHeadingCollapsed": true,
    "tags": []
   },
   "source": [
    "<details>\n",
    "<summary><h4><strong>Hint 3</strong></h4></summary>\n",
    "\n",
    "Use `C()` around the variable name in the ols formula to indicate a variable is categorical.\n",
    "    \n",
    "Be sure the variable string names exactly match the column names in `data`.\n",
    "\n",
    "</details>"
   ]
  },
  {
   "cell_type": "markdown",
   "metadata": {
    "id": "b4987bee-40ae-4513-95c3-1bec1acdbba9",
    "tags": []
   },
   "source": [
    "### Check model assumptions"
   ]
  },
  {
   "cell_type": "markdown",
   "metadata": {
    "id": "6854af88-7d67-4214-a7df-c6405b46bb47"
   },
   "source": [
    "Now, check the four linear regression assumptions are upheld for your model."
   ]
  },
  {
   "cell_type": "markdown",
   "metadata": {
    "id": "66de8f0b-fd6b-456f-add6-f893dc33d911",
    "tags": []
   },
   "source": [
    "**Question:** Is the linearity assumption met?"
   ]
  },
  {
   "cell_type": "markdown",
   "metadata": {
    "id": "82090a3a-875f-4da6-af73-6c790bd3457f"
   },
   "source": [
    "[Write your response here. Double-click (or enter) to edit.]"
   ]
  },
  {
   "cell_type": "markdown",
   "metadata": {
    "id": "feeb314a-bbbe-4e9a-8561-2f8af0cd172e"
   },
   "source": [
    "The independent observation assumption states that each observation in the dataset is independent. As each marketing promotion (row) is independent from one another, the independence assumption is not violated."
   ]
  },
  {
   "cell_type": "markdown",
   "metadata": {
    "id": "bcccf5c8-3325-4b1e-b491-f151bea5ab1c"
   },
   "source": [
    "Next, verify that the normality assumption is upheld for the model."
   ]
  },
  {
   "cell_type": "code",
   "execution_count": 17,
   "metadata": {
    "id": "cce8f99b-33e2-4723-9266-4f009e7a15dd"
   },
   "outputs": [
    {
     "name": "stdout",
     "output_type": "stream",
     "text": [
      "AxesSubplot(0.125,0.125;0.352273x0.755)\n",
      "AxesSubplot(0.547727,0.125;0.352273x0.755)\n"
     ]
    },
    {
     "data": {
      "image/png": "[encoded data removed]",
      "text/plain": [
       "<Figure size 576x288 with 2 Axes>"
      ]
     },
     "metadata": {
      "needs_background": "light"
     },
     "output_type": "display_data"
    }
   ],
   "source": [
    "# Calculate the residuals.\n",
    "\n",
    "residuals = model.resid\n",
    "\n",
    "\n",
    "# Create a histogram with the residuals. \n",
    "\n",
    "fig, axes = plt.subplots(1, 2, figsize = (8,4))\n",
    "sns.histplot(residuals, ax=axes[0])\n",
    "axes[0].set_xlabel('Residual Value')\n",
    "axes[0].set_title(\"Residuals Histogram\")\n",
    "\n",
    "\n",
    "# Create a QQ plot of the residuals.\n",
    "\n",
    "sm.qqplot(residuals, line='s', ax=axes[1])\n",
    "axes[1].set_title(\"Normal QQ Plot\")\n",
    "\n",
    "print(axes[0])\n",
    "print(axes[1])"
   ]
  },
  {
   "cell_type": "markdown",
   "metadata": {
    "id": "689dabc4-ad48-4c9e-976e-b70520801385"
   },
   "source": [
    "<details>\n",
    "<summary><h4><strong>Hint 2</strong></h4></summary>\n",
    "\n",
    "Use `model.resid` to get the residuals from a fit model called `model`.\n",
    "\n",
    "</details>"
   ]
  },
  {
   "cell_type": "markdown",
   "metadata": {
    "id": "562f868e-45e4-464a-a47e-9f1ed735d6a4"
   },
   "source": [
    "<details>\n",
    "<summary><h4><strong>Hint 3</strong></h4></summary>\n",
    "\n",
    "For the histogram, pass the residuals as the first argument in the `seaborn` `histplot()` function.\n",
    "    \n",
    "For the QQ-plot, pass the residuals as the first argument in the `statsmodels` `qqplot()` function.\n",
    "\n",
    "</details>"
   ]
  },
  {
   "cell_type": "markdown",
   "metadata": {
    "id": "e41f4dd7-5501-43b7-b684-58bad8ff61fb"
   },
   "source": [
    "**Question:** Is the normality assumption met?"
   ]
  },
  {
   "cell_type": "markdown",
   "metadata": {
    "id": "fc232449-b3ea-4cb6-992d-cd129ef43cc9"
   },
   "source": [
    "Though the histogram nearly resembles a bell curve, the QQ Plot absolutely doesn't meet the normality assumption due to the fact that the plot forms an 's' with the points rather than the points following among the red line."
   ]
  },
  {
   "cell_type": "markdown",
   "metadata": {
    "id": "be83ac10-d1d0-4b94-88de-5de424528547"
   },
   "source": [
    "Now, verify the constant variance (homoscedasticity) assumption is met for this model."
   ]
  },
  {
   "cell_type": "code",
   "execution_count": 18,
   "metadata": {
    "id": "efcd0325-b3a0-42d1-ad57-38f10800c35e"
   },
   "outputs": [
    {
     "data": {
      "image/png": "[encoded data removed]",
      "text/plain": [
       "<Figure size 432x288 with 1 Axes>"
      ]
     },
     "metadata": {
      "needs_background": "light"
     },
     "output_type": "display_data"
    }
   ],
   "source": [
    "# Create a scatter plot with the fitted values from the model and the residuals.\n",
    "\n",
    "fig = sns.scatterplot(x = model.fittedvalues, y= model.resid)\n",
    "fig.set_xlabel(\"Fitted Values\")\n",
    "fig.set_ylabel(\"Residuals\")\n",
    "fig.set_title(\"Fitted Values vs Residuals\")\n",
    "\n",
    "\n",
    "# Add a line at y = 0 to visualize the variance of residuals above and below 0.\n",
    "\n",
    "fig.axhline(0)\n",
    "\n",
    "plt.show()\n"
   ]
  },
  {
   "cell_type": "markdown",
   "metadata": {
    "id": "662f104d-0977-498f-8159-501063f3c3fc"
   },
   "source": [
    "<details>\n",
    "<summary><h4><strong>Hint 1</strong></h4></summary>\n",
    "\n",
    "Access the fitted values from the model object fit earlier.\n",
    "\n",
    "</details>"
   ]
  },
  {
   "cell_type": "markdown",
   "metadata": {
    "id": "b0a3d26c-1e80-46e3-849a-d7f054cffb52",
    "jp-MarkdownHeadingCollapsed": true,
    "tags": []
   },
   "source": [
    "<details>\n",
    "<summary><h4><strong>Hint 2</strong></h4></summary>\n",
    "\n",
    "Use `model.fittedvalues` to get the fitted values from the fit model called `model`.\n",
    "\n",
    "</details>"
   ]
  },
  {
   "cell_type": "markdown",
   "metadata": {
    "id": "5830cbfc-9204-42a6-b24f-3cf1334ff41e",
    "jp-MarkdownHeadingCollapsed": true,
    "tags": []
   },
   "source": [
    "<details>\n",
    "<summary><h4><strong>Hint 3</strong></h4></summary>\n",
    "\n",
    "\n",
    "Call the `scatterplot()` function from the `seaborn` library and pass in the fitted values and residuals.\n",
    "    \n",
    "Add a line to a figure using the `axline()` function.\n",
    "\n",
    "</details>"
   ]
  },
  {
   "cell_type": "markdown",
   "metadata": {
    "id": "8318f726-369c-446a-acad-85117e43459b"
   },
   "source": [
    "**Question:** Is the constant variance (homoscedasticity) assumption met?"
   ]
  },
  {
   "cell_type": "markdown",
   "metadata": {
    "id": "8eadb921-bc45-4669-b4f0-e727111fff3c"
   },
   "source": [
    "Since the fitted values seem similarly distributed, the homoscedasticity assumption is met."
   ]
  },
  {
   "cell_type": "markdown",
   "metadata": {
    "id": "84373d80-2129-4124-85fa-85871671004b"
   },
   "source": [
    "## **Step 4: Results and evaluation** "
   ]
  },
  {
   "cell_type": "markdown",
   "metadata": {
    "id": "30f5a3e8-a446-4a64-a0cb-4a512a367111"
   },
   "source": [
    "First, display the OLS regression results."
   ]
  },
  {
   "cell_type": "code",
   "execution_count": 19,
   "metadata": {
    "id": "7d0bfc27-05f7-4cfa-9aa1-8e2110eabd69"
   },
   "outputs": [
    {
     "data": {
      "text/html": [
       "<table class=\"simpletable\">\n",
       "<caption>OLS Regression Results</caption>\n",
       "<tr>\n",
       "  <th>Dep. Variable:</th>          <td>Sales</td>      <th>  R-squared:         </th> <td>   0.012</td>\n",
       "</tr>\n",
       "<tr>\n",
       "  <th>Model:</th>                   <td>OLS</td>       <th>  Adj. R-squared:    </th> <td>   0.006</td>\n",
       "</tr>\n",
       "<tr>\n",
       "  <th>Method:</th>             <td>Least Squares</td>  <th>  F-statistic:       </th> <td>   2.206</td>\n",
       "</tr>\n",
       "<tr>\n",
       "  <th>Date:</th>             <td>Tue, 15 Aug 2023</td> <th>  Prob (F-statistic):</th>  <td>0.0863</td> \n",
       "</tr>\n",
       "<tr>\n",
       "  <th>Time:</th>                 <td>21:58:00</td>     <th>  Log-Likelihood:    </th> <td> -3366.0</td>\n",
       "</tr>\n",
       "<tr>\n",
       "  <th>No. Observations:</th>      <td>   569</td>      <th>  AIC:               </th> <td>   6740.</td>\n",
       "</tr>\n",
       "<tr>\n",
       "  <th>Df Residuals:</th>          <td>   565</td>      <th>  BIC:               </th> <td>   6757.</td>\n",
       "</tr>\n",
       "<tr>\n",
       "  <th>Df Model:</th>              <td>     3</td>      <th>                     </th>     <td> </td>   \n",
       "</tr>\n",
       "<tr>\n",
       "  <th>Covariance Type:</th>      <td>nonrobust</td>    <th>                     </th>     <td> </td>   \n",
       "</tr>\n",
       "</table>\n",
       "<table class=\"simpletable\">\n",
       "<tr>\n",
       "             <td></td>               <th>coef</th>     <th>std err</th>      <th>t</th>      <th>P>|t|</th>  <th>[0.025</th>    <th>0.975]</th>  \n",
       "</tr>\n",
       "<tr>\n",
       "  <th>Intercept</th>              <td>  206.6418</td> <td>    7.897</td> <td>   26.166</td> <td> 0.000</td> <td>  191.130</td> <td>  222.153</td>\n",
       "</tr>\n",
       "<tr>\n",
       "  <th>C(Influencer)[T.Mega]</th>  <td>  -26.2567</td> <td>   10.841</td> <td>   -2.422</td> <td> 0.016</td> <td>  -47.550</td> <td>   -4.964</td>\n",
       "</tr>\n",
       "<tr>\n",
       "  <th>C(Influencer)[T.Micro]</th> <td>   -7.9867</td> <td>   10.876</td> <td>   -0.734</td> <td> 0.463</td> <td>  -29.348</td> <td>   13.375</td>\n",
       "</tr>\n",
       "<tr>\n",
       "  <th>C(Influencer)[T.Nano]</th>  <td>  -16.8990</td> <td>   10.841</td> <td>   -1.559</td> <td> 0.120</td> <td>  -38.192</td> <td>    4.394</td>\n",
       "</tr>\n",
       "</table>\n",
       "<table class=\"simpletable\">\n",
       "<tr>\n",
       "  <th>Omnibus:</th>       <td>191.779</td> <th>  Durbin-Watson:     </th> <td>   1.902</td>\n",
       "</tr>\n",
       "<tr>\n",
       "  <th>Prob(Omnibus):</th> <td> 0.000</td>  <th>  Jarque-Bera (JB):  </th> <td>  28.590</td>\n",
       "</tr>\n",
       "<tr>\n",
       "  <th>Skew:</th>          <td> 0.038</td>  <th>  Prob(JB):          </th> <td>6.19e-07</td>\n",
       "</tr>\n",
       "<tr>\n",
       "  <th>Kurtosis:</th>      <td> 1.905</td>  <th>  Cond. No.          </th> <td>    4.99</td>\n",
       "</tr>\n",
       "</table><br/><br/>Warnings:<br/>[1] Standard Errors assume that the covariance matrix of the errors is correctly specified."
      ],
      "text/plain": [
       "<class 'statsmodels.iolib.summary.Summary'>\n",
       "\"\"\"\n",
       "                            OLS Regression Results                            \n",
       "==============================================================================\n",
       "Dep. Variable:                  Sales   R-squared:                       0.012\n",
       "Model:                            OLS   Adj. R-squared:                  0.006\n",
       "Method:                 Least Squares   F-statistic:                     2.206\n",
       "Date:                Tue, 15 Aug 2023   Prob (F-statistic):             0.0863\n",
       "Time:                        21:58:00   Log-Likelihood:                -3366.0\n",
       "No. Observations:                 569   AIC:                             6740.\n",
       "Df Residuals:                     565   BIC:                             6757.\n",
       "Df Model:                           3                                         \n",
       "Covariance Type:            nonrobust                                         \n",
       "==========================================================================================\n",
       "                             coef    std err          t      P>|t|      [0.025      0.975]\n",
       "------------------------------------------------------------------------------------------\n",
       "Intercept                206.6418      7.897     26.166      0.000     191.130     222.153\n",
       "C(Influencer)[T.Mega]    -26.2567     10.841     -2.422      0.016     -47.550      -4.964\n",
       "C(Influencer)[T.Micro]    -7.9867     10.876     -0.734      0.463     -29.348      13.375\n",
       "C(Influencer)[T.Nano]    -16.8990     10.841     -1.559      0.120     -38.192       4.394\n",
       "==============================================================================\n",
       "Omnibus:                      191.779   Durbin-Watson:                   1.902\n",
       "Prob(Omnibus):                  0.000   Jarque-Bera (JB):               28.590\n",
       "Skew:                           0.038   Prob(JB):                     6.19e-07\n",
       "Kurtosis:                       1.905   Cond. No.                         4.99\n",
       "==============================================================================\n",
       "\n",
       "Warnings:\n",
       "[1] Standard Errors assume that the covariance matrix of the errors is correctly specified.\n",
       "\"\"\""
      ]
     },
     "execution_count": 19,
     "metadata": {},
     "output_type": "execute_result"
    }
   ],
   "source": [
    "# Display the model results summary.\n",
    "\n",
    "model_results \n",
    "\n"
   ]
  },
  {
   "cell_type": "markdown",
   "metadata": {
    "id": "b29062e1-5c7f-4a78-b782-a07236bbcc28"
   },
   "source": [
    "**Question:** What is your interpretation of the model's R-squared?"
   ]
  },
  {
   "cell_type": "markdown",
   "metadata": {
    "id": "e671f229-bdd7-40cc-bdad-f1291815e1fa"
   },
   "source": [
    "R-squared equals 0.012, meaning that Influencer explains 1.2% of the variation in Sales. This is significantly far away from a high percentage. "
   ]
  },
  {
   "cell_type": "markdown",
   "metadata": {
    "id": "97b169ad-b113-46e3-996a-53f268adbc6d"
   },
   "source": [
    "### Perform a one-way ANOVA test\n",
    "\n",
    "With the model fit, run a one-way ANOVA test to determine whether there is a statistically significant difference in `Sales` among groups. "
   ]
  },
  {
   "cell_type": "code",
   "execution_count": 20,
   "metadata": {
    "id": "aadfa800-a74c-4819-abb8-cda13ce16d96"
   },
   "outputs": [
    {
     "data": {
      "text/html": [
       "<div>\n",
       "<style scoped>\n",
       "    .dataframe tbody tr th:only-of-type {\n",
       "        vertical-align: middle;\n",
       "    }\n",
       "\n",
       "    .dataframe tbody tr th {\n",
       "        vertical-align: top;\n",
       "    }\n",
       "\n",
       "    .dataframe thead th {\n",
       "        text-align: right;\n",
       "    }\n",
       "</style>\n",
       "<table border=\"1\" class=\"dataframe\">\n",
       "  <thead>\n",
       "    <tr style=\"text-align: right;\">\n",
       "      <th></th>\n",
       "      <th>sum_sq</th>\n",
       "      <th>df</th>\n",
       "      <th>F</th>\n",
       "      <th>PR(&gt;F)</th>\n",
       "    </tr>\n",
       "  </thead>\n",
       "  <tbody>\n",
       "    <tr>\n",
       "      <th>C(Influencer)</th>\n",
       "      <td>5.366343e+04</td>\n",
       "      <td>3.0</td>\n",
       "      <td>2.206305</td>\n",
       "      <td>0.086322</td>\n",
       "    </tr>\n",
       "    <tr>\n",
       "      <th>Residual</th>\n",
       "      <td>4.580788e+06</td>\n",
       "      <td>565.0</td>\n",
       "      <td>NaN</td>\n",
       "      <td>NaN</td>\n",
       "    </tr>\n",
       "  </tbody>\n",
       "</table>\n",
       "</div>"
      ],
      "text/plain": [
       "                     sum_sq     df         F    PR(>F)\n",
       "C(Influencer)  5.366343e+04    3.0  2.206305  0.086322\n",
       "Residual       4.580788e+06  565.0       NaN       NaN"
      ]
     },
     "execution_count": 20,
     "metadata": {},
     "output_type": "execute_result"
    }
   ],
   "source": [
    "# Create an one-way ANOVA table for the fit model.\n",
    "\n",
    "sm.stats.anova_lm(model, typ=2)"
   ]
  },
  {
   "cell_type": "markdown",
   "metadata": {
    "id": "3574a603-96c3-4876-80bd-9864a1e466d6"
   },
   "source": [
    "<details>\n",
    "<summary><h4><strong>Hint 1</strong></h4></summary>\n",
    "\n",
    "Review what you've learned about how to perform a one-way ANOVA test.\n",
    "\n",
    "</details>"
   ]
  },
  {
   "cell_type": "markdown",
   "metadata": {
    "id": "f1010b34-96b2-403a-8630-e83613ff40be"
   },
   "source": [
    "<details>\n",
    "<summary><h4><strong>Hint 2</strong></h4></summary>\n",
    "\n",
    "There is a function in `statsmodels.api` (i.e. `sm`) that peforms an ANOVA test for a fit linear model.\n",
    "\n",
    "</details>"
   ]
  },
  {
   "cell_type": "markdown",
   "metadata": {
    "id": "b0ccc536-34c6-4bb7-a022-a2e4bec62397"
   },
   "source": [
    "<details>\n",
    "<summary><h4><strong>Hint 3</strong></h4></summary>\n",
    "\n",
    "Use the `anova_lm()` function from `sm.stats`. Specify the type of ANOVA test (for example, one-way or two-way), using the `typ` parameter.\n",
    "   \n",
    "\n",
    "</details>"
   ]
  },
  {
   "cell_type": "markdown",
   "metadata": {
    "id": "735c20e2-bd53-4e36-81bd-38ae78a4d4a8"
   },
   "source": [
    "**Question:** What are the null and alternative hypotheses for the ANOVA test?"
   ]
  },
  {
   "cell_type": "markdown",
   "metadata": {
    "id": "4175c90c-a07b-4e62-b659-bc5b40aeadfb"
   },
   "source": [
    "Null: There is no difference in Sales based on the Influencer promotion budget.\n",
    "Alternative: There is a difference in Sales based on the Influencer promotion budget."
   ]
  },
  {
   "cell_type": "markdown",
   "metadata": {
    "id": "1f5807cb-aff6-4877-a70c-7dbffdb822e3"
   },
   "source": [
    "**Question:** What is your conclusion from the one-way ANOVA test?"
   ]
  },
  {
   "cell_type": "markdown",
   "metadata": {
    "id": "81f755b7-11b8-4508-8962-fb0721b13df8"
   },
   "source": [
    "Our P-value is 0.086 which is larger than 0.05, therefore concluding that we've failed to reject the null hypothesis."
   ]
  },
  {
   "cell_type": "markdown",
   "metadata": {
    "id": "532a2ba1-8e9a-4c8f-b432-dfeea0e62fc4"
   },
   "source": [
    "### Perform an ANOVA post hoc test\n",
    "\n",
    "If you have significant results from the one-way ANOVA test, you can apply ANOVA post hoc tests such as the Tukey’s HSD post hoc test. \n",
    "\n",
    "Run the Tukey’s HSD post hoc test to compare if there is a significant difference between each pair of categories for TV."
   ]
  },
  {
   "cell_type": "code",
   "execution_count": 22,
   "metadata": {
    "id": "cce84e77-6269-4295-b961-8350a4b4920c"
   },
   "outputs": [
    {
     "data": {
      "text/html": [
       "<table class=\"simpletable\">\n",
       "<caption>Multiple Comparison of Means - Tukey HSD, FWER=0.05</caption>\n",
       "<tr>\n",
       "  <th>group1</th> <th>group2</th> <th>meandiff</th>  <th>p-adj</th>   <th>lower</th>   <th>upper</th>  <th>reject</th>\n",
       "</tr>\n",
       "<tr>\n",
       "   <td>Macro</td>  <td>Mega</td>  <td>-26.2567</td> <td>0.0742</td> <td>-54.1903</td> <td>1.6769</td>   <td>False</td>\n",
       "</tr>\n",
       "<tr>\n",
       "   <td>Macro</td>  <td>Micro</td>  <td>-7.9867</td> <td>0.8731</td> <td>-36.0106</td> <td>20.0371</td>  <td>False</td>\n",
       "</tr>\n",
       "<tr>\n",
       "   <td>Macro</td>  <td>Nano</td>   <td>-16.899</td> <td>0.4045</td> <td>-44.8326</td> <td>11.0346</td>  <td>False</td>\n",
       "</tr>\n",
       "<tr>\n",
       "   <td>Mega</td>   <td>Micro</td>   <td>18.27</td>  <td>0.3074</td>  <td>-8.886</td>  <td>45.426</td>   <td>False</td>\n",
       "</tr>\n",
       "<tr>\n",
       "   <td>Mega</td>   <td>Nano</td>   <td>9.3577</td>  <td>0.7852</td> <td>-17.7051</td> <td>36.4206</td>  <td>False</td>\n",
       "</tr>\n",
       "<tr>\n",
       "   <td>Micro</td>  <td>Nano</td>   <td>-8.9122</td> <td>0.8106</td> <td>-36.0682</td> <td>18.2437</td>  <td>False</td>\n",
       "</tr>\n",
       "</table>"
      ],
      "text/plain": [
       "<class 'statsmodels.iolib.table.SimpleTable'>"
      ]
     },
     "execution_count": 22,
     "metadata": {},
     "output_type": "execute_result"
    }
   ],
   "source": [
    "# Perform the Tukey's HSD post hoc test.\n",
    "\n",
    "tukey_oneway = pairwise_tukeyhsd(endog = data[\"Sales\"], groups = data[\"Influencer\"])\n",
    "tukey_oneway.summary()"
   ]
  },
  {
   "cell_type": "markdown",
   "metadata": {
    "id": "119b0c6f-b7c7-47a7-80cb-ed94a07fc61c"
   },
   "source": [
    "<details>\n",
    "<summary><h4><strong>Hint 1</strong></h4></summary>\n",
    "\n",
    "Review what you've learned about how to perform a Tukey's HSD post hoc test.\n",
    "\n",
    "</details>"
   ]
  },
  {
   "cell_type": "markdown",
   "metadata": {
    "id": "3adb039f-15d0-4f36-848b-3b469cd4d65d"
   },
   "source": [
    "<details>\n",
    "<summary><h4><strong>Hint 2</strong></h4></summary>\n",
    "\n",
    "Use the `pairwise_tukeyhsd()` function from `statsmodels.stats.multicomp`.\n",
    "\n",
    "</details>"
   ]
  },
  {
   "cell_type": "markdown",
   "metadata": {
    "id": "5169a823-fd23-41bc-9766-1b3fd4bff1dc"
   },
   "source": [
    "<details>\n",
    "<summary><h4><strong>Hint 3</strong></h4></summary>\n",
    "\n",
    "The `endog` argument in `pairwise_tukeyhsd` indicates which variable is being compared across groups (i.e., `Sales`). The `groups` argument in `pairwise_tukeyhsd` tells the function which variable holds the group you’re interested in reviewing.\n",
    "\n",
    "</details>"
   ]
  },
  {
   "cell_type": "markdown",
   "metadata": {
    "id": "529c0b8a-8ffb-445f-b045-521646408c16"
   },
   "source": [
    "**Question:** What is your interpretation of the Tukey HSD test?"
   ]
  },
  {
   "cell_type": "markdown",
   "metadata": {
    "id": "797099aa-a787-46a9-9ea1-ab125ff7ae27"
   },
   "source": [
    "The Tukey HSD tests furhter explains how we cannot reject the null hypothesis since there is a significant difference between Influencer and Sales"
   ]
  },
  {
   "cell_type": "markdown",
   "metadata": {
    "id": "88b01fcc-e016-4cd5-aedc-a71e51276fe2"
   },
   "source": [
    "#### **Reference**\n",
    "[Saragih, H.S. *Dummy Marketing and Sales Data*](https://www.kaggle.com/datasets/harrimansaragih/dummy-advertising-and-sales-data)"
   ]
  },
  {
   "cell_type": "markdown",
   "metadata": {},
   "source": [
    "**Congratulations!** You've completed this lab. However, you may not notice a green check mark next to this item on Coursera's platform. Please continue your progress regardless of the check mark. Just click on the \"save\" icon at the top of this notebook to ensure your work has been logged."
   ]
  }
 ],
 "metadata": {
  "colab": {
   "collapsed_sections": [],
   "provenance": []
  },
  "kernelspec": {
   "display_name": "Python 3",
   "language": "python",
   "name": "python3"
  },
  "language_info": {
   "codemirror_mode": {
    "name": "ipython",
    "version": 3
   },
   "file_extension": ".py",
   "mimetype": "text/x-python",
   "name": "python",
   "nbconvert_exporter": "python",
   "pygments_lexer": "ipython3",
   "version": "3.7.6"
  }
 },
 "nbformat": 4,
 "nbformat_minor": 5
}
